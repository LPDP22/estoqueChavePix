{
 "cells": [
  {
   "cell_type": "code",
   "execution_count": 1,
   "id": "ee41b234",
   "metadata": {},
   "outputs": [],
   "source": [
    "url = \"https://olinda.bcb.gov.br/olinda/servico/Pix_DadosAbertos/versao/v1/odata/ChavesPix(Data=@Data)?@Data='2023-01-01'&$top=10000&$format=json&$select=Data,ISPB,Nome,NaturezaUsuario,TipoChave,qtdChaves\""
   ]
  },
  {
   "cell_type": "code",
   "execution_count": 2,
   "id": "357f4d6f",
   "metadata": {},
   "outputs": [],
   "source": [
    "import pandas as pd\n",
    "import json\n",
    "import requests"
   ]
  },
  {
   "cell_type": "code",
   "execution_count": 3,
   "id": "46804a5d",
   "metadata": {},
   "outputs": [],
   "source": [
    "def requisicao_api(link):\n",
    "  resposta = requests.get(link)\n",
    "\n",
    "  if resposta.status_code == 200:      #sucesso na requisição\n",
    "    dados = resposta.json()\n",
    "    print('Status Code:', resposta.status_code)\n",
    "    with open('resultado.json', 'w', encoding='utf-8') as arquivo:   #salvar arquivo json\n",
    "      json.dump(dados, arquivo, ensure_ascii=False, indent=4)\n",
    "\n",
    "  else:\n",
    "    print('Status Code:', resposta.status_code)"
   ]
  },
  {
   "cell_type": "code",
   "execution_count": 4,
   "id": "fa0de172",
   "metadata": {},
   "outputs": [
    {
     "name": "stdout",
     "output_type": "stream",
     "text": [
      "Status Code: 200\n"
     ]
    }
   ],
   "source": [
    "requisicao_api(url)"
   ]
  },
  {
   "cell_type": "code",
   "execution_count": 5,
   "id": "fee3a8e3",
   "metadata": {},
   "outputs": [],
   "source": [
    "jsondata = pd.read_json('resultado.json')"
   ]
  },
  {
   "cell_type": "code",
   "execution_count": 6,
   "id": "458a5190",
   "metadata": {},
   "outputs": [
    {
     "data": {
      "text/html": [
       "<div>\n",
       "<style scoped>\n",
       "    .dataframe tbody tr th:only-of-type {\n",
       "        vertical-align: middle;\n",
       "    }\n",
       "\n",
       "    .dataframe tbody tr th {\n",
       "        vertical-align: top;\n",
       "    }\n",
       "\n",
       "    .dataframe thead th {\n",
       "        text-align: right;\n",
       "    }\n",
       "</style>\n",
       "<table border=\"1\" class=\"dataframe\">\n",
       "  <thead>\n",
       "    <tr style=\"text-align: right;\">\n",
       "      <th></th>\n",
       "      <th>@odata.context</th>\n",
       "      <th>value</th>\n",
       "    </tr>\n",
       "  </thead>\n",
       "  <tbody>\n",
       "    <tr>\n",
       "      <th>0</th>\n",
       "      <td>https://was-p.bcnet.bcb.gov.br/olinda/servico/...</td>\n",
       "      <td>{'Data': '2025-06-30', 'ISPB': '67960229', 'No...</td>\n",
       "    </tr>\n",
       "    <tr>\n",
       "      <th>1</th>\n",
       "      <td>https://was-p.bcnet.bcb.gov.br/olinda/servico/...</td>\n",
       "      <td>{'Data': '2024-06-30', 'ISPB': '07564184', 'No...</td>\n",
       "    </tr>\n",
       "    <tr>\n",
       "      <th>2</th>\n",
       "      <td>https://was-p.bcnet.bcb.gov.br/olinda/servico/...</td>\n",
       "      <td>{'Data': '2023-02-28', 'ISPB': '07440317', 'No...</td>\n",
       "    </tr>\n",
       "    <tr>\n",
       "      <th>3</th>\n",
       "      <td>https://was-p.bcnet.bcb.gov.br/olinda/servico/...</td>\n",
       "      <td>{'Data': '2025-01-31', 'ISPB': '33641877', 'No...</td>\n",
       "    </tr>\n",
       "    <tr>\n",
       "      <th>4</th>\n",
       "      <td>https://was-p.bcnet.bcb.gov.br/olinda/servico/...</td>\n",
       "      <td>{'Data': '2024-10-31', 'ISPB': '07097064', 'No...</td>\n",
       "    </tr>\n",
       "    <tr>\n",
       "      <th>...</th>\n",
       "      <td>...</td>\n",
       "      <td>...</td>\n",
       "    </tr>\n",
       "    <tr>\n",
       "      <th>9995</th>\n",
       "      <td>https://was-p.bcnet.bcb.gov.br/olinda/servico/...</td>\n",
       "      <td>{'Data': '2024-09-30', 'ISPB': '31872495', 'No...</td>\n",
       "    </tr>\n",
       "    <tr>\n",
       "      <th>9996</th>\n",
       "      <td>https://was-p.bcnet.bcb.gov.br/olinda/servico/...</td>\n",
       "      <td>{'Data': '2023-02-28', 'ISPB': '03222753', 'No...</td>\n",
       "    </tr>\n",
       "    <tr>\n",
       "      <th>9997</th>\n",
       "      <td>https://was-p.bcnet.bcb.gov.br/olinda/servico/...</td>\n",
       "      <td>{'Data': '2024-08-31', 'ISPB': '54190525', 'No...</td>\n",
       "    </tr>\n",
       "    <tr>\n",
       "      <th>9998</th>\n",
       "      <td>https://was-p.bcnet.bcb.gov.br/olinda/servico/...</td>\n",
       "      <td>{'Data': '2023-10-31', 'ISPB': '78865995', 'No...</td>\n",
       "    </tr>\n",
       "    <tr>\n",
       "      <th>9999</th>\n",
       "      <td>https://was-p.bcnet.bcb.gov.br/olinda/servico/...</td>\n",
       "      <td>{'Data': '2025-07-31', 'ISPB': '11760553', 'No...</td>\n",
       "    </tr>\n",
       "  </tbody>\n",
       "</table>\n",
       "<p>10000 rows × 2 columns</p>\n",
       "</div>"
      ],
      "text/plain": [
       "                                         @odata.context  \\\n",
       "0     https://was-p.bcnet.bcb.gov.br/olinda/servico/...   \n",
       "1     https://was-p.bcnet.bcb.gov.br/olinda/servico/...   \n",
       "2     https://was-p.bcnet.bcb.gov.br/olinda/servico/...   \n",
       "3     https://was-p.bcnet.bcb.gov.br/olinda/servico/...   \n",
       "4     https://was-p.bcnet.bcb.gov.br/olinda/servico/...   \n",
       "...                                                 ...   \n",
       "9995  https://was-p.bcnet.bcb.gov.br/olinda/servico/...   \n",
       "9996  https://was-p.bcnet.bcb.gov.br/olinda/servico/...   \n",
       "9997  https://was-p.bcnet.bcb.gov.br/olinda/servico/...   \n",
       "9998  https://was-p.bcnet.bcb.gov.br/olinda/servico/...   \n",
       "9999  https://was-p.bcnet.bcb.gov.br/olinda/servico/...   \n",
       "\n",
       "                                                  value  \n",
       "0     {'Data': '2025-06-30', 'ISPB': '67960229', 'No...  \n",
       "1     {'Data': '2024-06-30', 'ISPB': '07564184', 'No...  \n",
       "2     {'Data': '2023-02-28', 'ISPB': '07440317', 'No...  \n",
       "3     {'Data': '2025-01-31', 'ISPB': '33641877', 'No...  \n",
       "4     {'Data': '2024-10-31', 'ISPB': '07097064', 'No...  \n",
       "...                                                 ...  \n",
       "9995  {'Data': '2024-09-30', 'ISPB': '31872495', 'No...  \n",
       "9996  {'Data': '2023-02-28', 'ISPB': '03222753', 'No...  \n",
       "9997  {'Data': '2024-08-31', 'ISPB': '54190525', 'No...  \n",
       "9998  {'Data': '2023-10-31', 'ISPB': '78865995', 'No...  \n",
       "9999  {'Data': '2025-07-31', 'ISPB': '11760553', 'No...  \n",
       "\n",
       "[10000 rows x 2 columns]"
      ]
     },
     "execution_count": 6,
     "metadata": {},
     "output_type": "execute_result"
    }
   ],
   "source": [
    "jsondata"
   ]
  },
  {
   "cell_type": "code",
   "execution_count": 7,
   "id": "b8402dfc",
   "metadata": {},
   "outputs": [],
   "source": [
    "data = jsondata['value']"
   ]
  },
  {
   "cell_type": "code",
   "execution_count": 8,
   "id": "ce36245e",
   "metadata": {},
   "outputs": [],
   "source": [
    "dados_df = pd.json_normalize(data)"
   ]
  },
  {
   "cell_type": "code",
   "execution_count": 9,
   "id": "d683265d",
   "metadata": {},
   "outputs": [
    {
     "data": {
      "text/html": [
       "<div>\n",
       "<style scoped>\n",
       "    .dataframe tbody tr th:only-of-type {\n",
       "        vertical-align: middle;\n",
       "    }\n",
       "\n",
       "    .dataframe tbody tr th {\n",
       "        vertical-align: top;\n",
       "    }\n",
       "\n",
       "    .dataframe thead th {\n",
       "        text-align: right;\n",
       "    }\n",
       "</style>\n",
       "<table border=\"1\" class=\"dataframe\">\n",
       "  <thead>\n",
       "    <tr style=\"text-align: right;\">\n",
       "      <th></th>\n",
       "      <th>Data</th>\n",
       "      <th>ISPB</th>\n",
       "      <th>Nome</th>\n",
       "      <th>NaturezaUsuario</th>\n",
       "      <th>TipoChave</th>\n",
       "      <th>qtdChaves</th>\n",
       "    </tr>\n",
       "  </thead>\n",
       "  <tbody>\n",
       "    <tr>\n",
       "      <th>0</th>\n",
       "      <td>2025-06-30</td>\n",
       "      <td>67960229</td>\n",
       "      <td>CC CREDIGUAÇU</td>\n",
       "      <td>PF</td>\n",
       "      <td>Celular</td>\n",
       "      <td>6255</td>\n",
       "    </tr>\n",
       "    <tr>\n",
       "      <th>1</th>\n",
       "      <td>2024-06-30</td>\n",
       "      <td>07564184</td>\n",
       "      <td>COOP ASCOOB SERTÕES</td>\n",
       "      <td>PF</td>\n",
       "      <td>Celular</td>\n",
       "      <td>6</td>\n",
       "    </tr>\n",
       "    <tr>\n",
       "      <th>2</th>\n",
       "      <td>2023-02-28</td>\n",
       "      <td>07440317</td>\n",
       "      <td>CC SICOOB CREDMED</td>\n",
       "      <td>PJ</td>\n",
       "      <td>Celular</td>\n",
       "      <td>1</td>\n",
       "    </tr>\n",
       "    <tr>\n",
       "      <th>3</th>\n",
       "      <td>2025-01-31</td>\n",
       "      <td>33641877</td>\n",
       "      <td>EQUIS BANK</td>\n",
       "      <td>PJ</td>\n",
       "      <td>e-mail</td>\n",
       "      <td>4</td>\n",
       "    </tr>\n",
       "    <tr>\n",
       "      <th>4</th>\n",
       "      <td>2024-10-31</td>\n",
       "      <td>07097064</td>\n",
       "      <td>COOP SICOOB CONFIANÇA</td>\n",
       "      <td>PF</td>\n",
       "      <td>Aleatória</td>\n",
       "      <td>2427</td>\n",
       "    </tr>\n",
       "  </tbody>\n",
       "</table>\n",
       "</div>"
      ],
      "text/plain": [
       "         Data      ISPB                   Nome NaturezaUsuario  TipoChave  \\\n",
       "0  2025-06-30  67960229          CC CREDIGUAÇU              PF    Celular   \n",
       "1  2024-06-30  07564184    COOP ASCOOB SERTÕES              PF    Celular   \n",
       "2  2023-02-28  07440317      CC SICOOB CREDMED              PJ    Celular   \n",
       "3  2025-01-31  33641877             EQUIS BANK              PJ     e-mail   \n",
       "4  2024-10-31  07097064  COOP SICOOB CONFIANÇA              PF  Aleatória   \n",
       "\n",
       "   qtdChaves  \n",
       "0       6255  \n",
       "1          6  \n",
       "2          1  \n",
       "3          4  \n",
       "4       2427  "
      ]
     },
     "execution_count": 9,
     "metadata": {},
     "output_type": "execute_result"
    }
   ],
   "source": [
    "dados_df.head()"
   ]
  }
 ],
 "metadata": {
  "kernelspec": {
   "display_name": ".venv",
   "language": "python",
   "name": "python3"
  },
  "language_info": {
   "codemirror_mode": {
    "name": "ipython",
    "version": 3
   },
   "file_extension": ".py",
   "mimetype": "text/x-python",
   "name": "python",
   "nbconvert_exporter": "python",
   "pygments_lexer": "ipython3",
   "version": "3.11.9"
  }
 },
 "nbformat": 4,
 "nbformat_minor": 5
}
