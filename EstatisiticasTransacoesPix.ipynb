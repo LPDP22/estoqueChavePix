{
 "cells": [
  {
   "cell_type": "code",
   "execution_count": 1,
   "id": "f5fbd63c",
   "metadata": {},
   "outputs": [],
   "source": [
    "url = \"https://olinda.bcb.gov.br/olinda/servico/Pix_DadosAbertos/versao/v1/odata/EstatisticasTransacoesPix(Database=@Database)?@Database='202301'&$top=50000&$format=json&$select=AnoMes,PAG_PFPJ,REC_PFPJ,PAG_REGIAO,REC_REGIAO,PAG_IDADE,REC_IDADE,FORMAINICIACAO,NATUREZA,FINALIDADE,VALOR,QUANTIDADE\""
   ]
  },
  {
   "cell_type": "code",
   "execution_count": 5,
   "id": "0f997ae2",
   "metadata": {},
   "outputs": [],
   "source": [
    "import pandas as pd \n",
    "import json\n",
    "import requests"
   ]
  },
  {
   "cell_type": "code",
   "execution_count": 6,
   "id": "528e71d7",
   "metadata": {},
   "outputs": [],
   "source": [
    "def requisicao_api(link):\n",
    "  resposta = requests.get(link)\n",
    "\n",
    "  if resposta.status_code == 200:\n",
    "    dados = resposta.json()\n",
    "    print('Status Code:', resposta.status_code)\n",
    "    with open('resultado.json', 'w', encoding='utf-8') as arquivo:\n",
    "      json.dump(dados, arquivo, ensure_ascii=False, indent=4)\n",
    "\n",
    "  else:\n",
    "    print('Status Code:', resposta.status_code)"
   ]
  },
  {
   "cell_type": "code",
   "execution_count": 7,
   "id": "309845d6",
   "metadata": {},
   "outputs": [
    {
     "name": "stdout",
     "output_type": "stream",
     "text": [
      "Status Code: 200\n"
     ]
    }
   ],
   "source": [
    "requisicao_api(url)"
   ]
  },
  {
   "cell_type": "code",
   "execution_count": 8,
   "id": "47bc3d4d",
   "metadata": {},
   "outputs": [],
   "source": [
    "jsondata = pd.read_json('resultado.json')"
   ]
  },
  {
   "cell_type": "code",
   "execution_count": 9,
   "id": "f6917cce",
   "metadata": {},
   "outputs": [
    {
     "data": {
      "application/vnd.microsoft.datawrangler.viewer.v0+json": {
       "columns": [
        {
         "name": "index",
         "rawType": "int64",
         "type": "integer"
        },
        {
         "name": "@odata.context",
         "rawType": "object",
         "type": "string"
        },
        {
         "name": "value",
         "rawType": "object",
         "type": "unknown"
        }
       ],
       "ref": "42fa814e-1407-48d8-9187-5ff751025a99",
       "rows": [
        [
         "0",
         "https://was-p.bcnet.bcb.gov.br/olinda/servico/Pix_DadosAbertos/versao/v1/odata$metadata#_EstatisticasTransacoesPix(AnoMes,PAG_PFPJ,REC_PFPJ,PAG_REGIAO,REC_REGIAO,PAG_IDADE,REC_IDADE,FORMAINICIACAO,NATUREZA,FINALIDADE,VALOR,QUANTIDADE)",
         "{'AnoMes': 202405, 'PAG_PFPJ': 'PF', 'REC_PFPJ': 'PJ', 'PAG_REGIAO': 'Nao informado', 'REC_REGIAO': 'SUDESTE', 'PAG_IDADE': 'entre 30 e 39 anos', 'REC_IDADE': 'Nao se aplica', 'FORMAINICIACAO': 'DICT', 'NATUREZA': 'P2G', 'FINALIDADE': 'Pix', 'VALOR': 3384.22, 'QUANTIDADE': 8}"
        ],
        [
         "1",
         "https://was-p.bcnet.bcb.gov.br/olinda/servico/Pix_DadosAbertos/versao/v1/odata$metadata#_EstatisticasTransacoesPix(AnoMes,PAG_PFPJ,REC_PFPJ,PAG_REGIAO,REC_REGIAO,PAG_IDADE,REC_IDADE,FORMAINICIACAO,NATUREZA,FINALIDADE,VALOR,QUANTIDADE)",
         "{'AnoMes': 202303, 'PAG_PFPJ': 'PF', 'REC_PFPJ': 'PJ', 'PAG_REGIAO': 'NORTE', 'REC_REGIAO': 'NORTE', 'PAG_IDADE': 'mais de 60 anos', 'REC_IDADE': 'Nao se aplica', 'FORMAINICIACAO': 'QRDN', 'NATUREZA': 'P2B', 'FINALIDADE': 'Pix Troco', 'VALOR': 7525.59, 'QUANTIDADE': 16}"
        ],
        [
         "2",
         "https://was-p.bcnet.bcb.gov.br/olinda/servico/Pix_DadosAbertos/versao/v1/odata$metadata#_EstatisticasTransacoesPix(AnoMes,PAG_PFPJ,REC_PFPJ,PAG_REGIAO,REC_REGIAO,PAG_IDADE,REC_IDADE,FORMAINICIACAO,NATUREZA,FINALIDADE,VALOR,QUANTIDADE)",
         "{'AnoMes': 202301, 'PAG_PFPJ': 'PJ', 'REC_PFPJ': 'PF', 'PAG_REGIAO': 'SUDESTE', 'REC_REGIAO': 'Nao informado', 'PAG_IDADE': 'Nao se aplica', 'REC_IDADE': 'entre 30 e 39 anos', 'FORMAINICIACAO': 'Nao disponivel', 'NATUREZA': 'B2P', 'FINALIDADE': 'Nao disponivel', 'VALOR': 255424.33, 'QUANTIDADE': 1194}"
        ],
        [
         "3",
         "https://was-p.bcnet.bcb.gov.br/olinda/servico/Pix_DadosAbertos/versao/v1/odata$metadata#_EstatisticasTransacoesPix(AnoMes,PAG_PFPJ,REC_PFPJ,PAG_REGIAO,REC_REGIAO,PAG_IDADE,REC_IDADE,FORMAINICIACAO,NATUREZA,FINALIDADE,VALOR,QUANTIDADE)",
         "{'AnoMes': 202401, 'PAG_PFPJ': 'PJ', 'REC_PFPJ': 'PJ', 'PAG_REGIAO': 'SUL', 'REC_REGIAO': 'NORDESTE', 'PAG_IDADE': 'Nao se aplica', 'REC_IDADE': 'Nao se aplica', 'FORMAINICIACAO': 'MANU', 'NATUREZA': 'B2G', 'FINALIDADE': 'Pix', 'VALOR': 668315.98, 'QUANTIDADE': 77}"
        ],
        [
         "4",
         "https://was-p.bcnet.bcb.gov.br/olinda/servico/Pix_DadosAbertos/versao/v1/odata$metadata#_EstatisticasTransacoesPix(AnoMes,PAG_PFPJ,REC_PFPJ,PAG_REGIAO,REC_REGIAO,PAG_IDADE,REC_IDADE,FORMAINICIACAO,NATUREZA,FINALIDADE,VALOR,QUANTIDADE)",
         "{'AnoMes': 202408, 'PAG_PFPJ': 'PF', 'REC_PFPJ': 'PF', 'PAG_REGIAO': 'NORDESTE', 'REC_REGIAO': 'SUL', 'PAG_IDADE': 'entre 50 e 59 anos', 'REC_IDADE': 'entre 20 e 29 anos', 'FORMAINICIACAO': 'MANU', 'NATUREZA': 'P2P', 'FINALIDADE': 'Pix', 'VALOR': 1226112.51, 'QUANTIDADE': 8636}"
        ],
        [
         "5",
         "https://was-p.bcnet.bcb.gov.br/olinda/servico/Pix_DadosAbertos/versao/v1/odata$metadata#_EstatisticasTransacoesPix(AnoMes,PAG_PFPJ,REC_PFPJ,PAG_REGIAO,REC_REGIAO,PAG_IDADE,REC_IDADE,FORMAINICIACAO,NATUREZA,FINALIDADE,VALOR,QUANTIDADE)",
         "{'AnoMes': 202307, 'PAG_PFPJ': 'PF', 'REC_PFPJ': 'PF', 'PAG_REGIAO': 'NORTE', 'REC_REGIAO': 'Nao informado', 'PAG_IDADE': 'entre 50 e 59 anos', 'REC_IDADE': 'entre 40 e 49 anos', 'FORMAINICIACAO': 'QRES', 'NATUREZA': 'P2P', 'FINALIDADE': 'Pix', 'VALOR': 23848.56, 'QUANTIDADE': 136}"
        ],
        [
         "6",
         "https://was-p.bcnet.bcb.gov.br/olinda/servico/Pix_DadosAbertos/versao/v1/odata$metadata#_EstatisticasTransacoesPix(AnoMes,PAG_PFPJ,REC_PFPJ,PAG_REGIAO,REC_REGIAO,PAG_IDADE,REC_IDADE,FORMAINICIACAO,NATUREZA,FINALIDADE,VALOR,QUANTIDADE)",
         "{'AnoMes': 202312, 'PAG_PFPJ': 'PJ', 'REC_PFPJ': 'PF', 'PAG_REGIAO': 'SUDESTE', 'REC_REGIAO': 'SUDESTE', 'PAG_IDADE': 'Nao se aplica', 'REC_IDADE': 'Nao informado', 'FORMAINICIACAO': 'DICT', 'NATUREZA': 'B2P', 'FINALIDADE': 'Pix', 'VALOR': 4460.0, 'QUANTIDADE': 12}"
        ],
        [
         "7",
         "https://was-p.bcnet.bcb.gov.br/olinda/servico/Pix_DadosAbertos/versao/v1/odata$metadata#_EstatisticasTransacoesPix(AnoMes,PAG_PFPJ,REC_PFPJ,PAG_REGIAO,REC_REGIAO,PAG_IDADE,REC_IDADE,FORMAINICIACAO,NATUREZA,FINALIDADE,VALOR,QUANTIDADE)",
         "{'AnoMes': 202309, 'PAG_PFPJ': 'PF', 'REC_PFPJ': 'PF', 'PAG_REGIAO': 'CENTRO-OESTE', 'REC_REGIAO': 'SUDESTE', 'PAG_IDADE': 'entre 30 e 39 anos', 'REC_IDADE': 'entre 30 e 39 anos', 'FORMAINICIACAO': 'QRES', 'NATUREZA': 'P2P', 'FINALIDADE': 'Pix', 'VALOR': 3335387.3, 'QUANTIDADE': 56162}"
        ],
        [
         "8",
         "https://was-p.bcnet.bcb.gov.br/olinda/servico/Pix_DadosAbertos/versao/v1/odata$metadata#_EstatisticasTransacoesPix(AnoMes,PAG_PFPJ,REC_PFPJ,PAG_REGIAO,REC_REGIAO,PAG_IDADE,REC_IDADE,FORMAINICIACAO,NATUREZA,FINALIDADE,VALOR,QUANTIDADE)",
         "{'AnoMes': 202502, 'PAG_PFPJ': 'PJ', 'REC_PFPJ': 'PJ', 'PAG_REGIAO': 'SUDESTE', 'REC_REGIAO': 'NORTE', 'PAG_IDADE': 'Nao se aplica', 'REC_IDADE': 'Nao se aplica', 'FORMAINICIACAO': 'Nao disponivel', 'NATUREZA': 'G2B', 'FINALIDADE': 'Nao disponivel', 'VALOR': 500.0, 'QUANTIDADE': 1}"
        ],
        [
         "9",
         "https://was-p.bcnet.bcb.gov.br/olinda/servico/Pix_DadosAbertos/versao/v1/odata$metadata#_EstatisticasTransacoesPix(AnoMes,PAG_PFPJ,REC_PFPJ,PAG_REGIAO,REC_REGIAO,PAG_IDADE,REC_IDADE,FORMAINICIACAO,NATUREZA,FINALIDADE,VALOR,QUANTIDADE)",
         "{'AnoMes': 202309, 'PAG_PFPJ': 'PF', 'REC_PFPJ': 'PF', 'PAG_REGIAO': 'NORDESTE', 'REC_REGIAO': 'NORDESTE', 'PAG_IDADE': 'mais de 60 anos', 'REC_IDADE': 'entre 40 e 49 anos', 'FORMAINICIACAO': 'DICT', 'NATUREZA': 'P2P', 'FINALIDADE': 'Pix', 'VALOR': 1391331735.94, 'QUANTIDADE': 4391529}"
        ],
        [
         "10",
         "https://was-p.bcnet.bcb.gov.br/olinda/servico/Pix_DadosAbertos/versao/v1/odata$metadata#_EstatisticasTransacoesPix(AnoMes,PAG_PFPJ,REC_PFPJ,PAG_REGIAO,REC_REGIAO,PAG_IDADE,REC_IDADE,FORMAINICIACAO,NATUREZA,FINALIDADE,VALOR,QUANTIDADE)",
         "{'AnoMes': 202307, 'PAG_PFPJ': 'PF', 'REC_PFPJ': 'PF', 'PAG_REGIAO': 'NORTE', 'REC_REGIAO': 'SUL', 'PAG_IDADE': 'entre 20 e 29 anos', 'REC_IDADE': 'entre 40 e 49 anos', 'FORMAINICIACAO': 'QRDN', 'NATUREZA': 'P2P', 'FINALIDADE': 'Pix', 'VALOR': 188750.66, 'QUANTIDADE': 8349}"
        ],
        [
         "11",
         "https://was-p.bcnet.bcb.gov.br/olinda/servico/Pix_DadosAbertos/versao/v1/odata$metadata#_EstatisticasTransacoesPix(AnoMes,PAG_PFPJ,REC_PFPJ,PAG_REGIAO,REC_REGIAO,PAG_IDADE,REC_IDADE,FORMAINICIACAO,NATUREZA,FINALIDADE,VALOR,QUANTIDADE)",
         "{'AnoMes': 202401, 'PAG_PFPJ': 'PF', 'REC_PFPJ': 'PJ', 'PAG_REGIAO': 'SUDESTE', 'REC_REGIAO': 'SUL', 'PAG_IDADE': 'entre 30 e 39 anos', 'REC_IDADE': 'Nao se aplica', 'FORMAINICIACAO': 'QRES', 'NATUREZA': 'P2G', 'FINALIDADE': 'Pix', 'VALOR': 18361.93, 'QUANTIDADE': 255}"
        ],
        [
         "12",
         "https://was-p.bcnet.bcb.gov.br/olinda/servico/Pix_DadosAbertos/versao/v1/odata$metadata#_EstatisticasTransacoesPix(AnoMes,PAG_PFPJ,REC_PFPJ,PAG_REGIAO,REC_REGIAO,PAG_IDADE,REC_IDADE,FORMAINICIACAO,NATUREZA,FINALIDADE,VALOR,QUANTIDADE)",
         "{'AnoMes': 202301, 'PAG_PFPJ': 'PF', 'REC_PFPJ': 'PF', 'PAG_REGIAO': 'NORTE', 'REC_REGIAO': 'NORDESTE', 'PAG_IDADE': 'até 19 anos', 'REC_IDADE': 'entre 20 e 29 anos', 'FORMAINICIACAO': 'MANU', 'NATUREZA': 'P2P', 'FINALIDADE': 'Pix', 'VALOR': 109556.76, 'QUANTIDADE': 2205}"
        ],
        [
         "13",
         "https://was-p.bcnet.bcb.gov.br/olinda/servico/Pix_DadosAbertos/versao/v1/odata$metadata#_EstatisticasTransacoesPix(AnoMes,PAG_PFPJ,REC_PFPJ,PAG_REGIAO,REC_REGIAO,PAG_IDADE,REC_IDADE,FORMAINICIACAO,NATUREZA,FINALIDADE,VALOR,QUANTIDADE)",
         "{'AnoMes': 202412, 'PAG_PFPJ': 'PF', 'REC_PFPJ': 'PF', 'PAG_REGIAO': 'CENTRO-OESTE', 'REC_REGIAO': 'SUL', 'PAG_IDADE': 'entre 40 e 49 anos', 'REC_IDADE': 'entre 20 e 29 anos', 'FORMAINICIACAO': 'DICT', 'NATUREZA': 'P2P', 'FINALIDADE': 'Pix', 'VALOR': 23821541.26, 'QUANTIDADE': 75041}"
        ],
        [
         "14",
         "https://was-p.bcnet.bcb.gov.br/olinda/servico/Pix_DadosAbertos/versao/v1/odata$metadata#_EstatisticasTransacoesPix(AnoMes,PAG_PFPJ,REC_PFPJ,PAG_REGIAO,REC_REGIAO,PAG_IDADE,REC_IDADE,FORMAINICIACAO,NATUREZA,FINALIDADE,VALOR,QUANTIDADE)",
         "{'AnoMes': 202303, 'PAG_PFPJ': 'PF', 'REC_PFPJ': 'PF', 'PAG_REGIAO': 'SUL', 'REC_REGIAO': 'SUDESTE', 'PAG_IDADE': 'entre 40 e 49 anos', 'REC_IDADE': 'entre 40 e 49 anos', 'FORMAINICIACAO': 'DICT', 'NATUREZA': 'P2P', 'FINALIDADE': 'Pix', 'VALOR': 95778755.13, 'QUANTIDADE': 256869}"
        ],
        [
         "15",
         "https://was-p.bcnet.bcb.gov.br/olinda/servico/Pix_DadosAbertos/versao/v1/odata$metadata#_EstatisticasTransacoesPix(AnoMes,PAG_PFPJ,REC_PFPJ,PAG_REGIAO,REC_REGIAO,PAG_IDADE,REC_IDADE,FORMAINICIACAO,NATUREZA,FINALIDADE,VALOR,QUANTIDADE)",
         "{'AnoMes': 202507, 'PAG_PFPJ': 'PF', 'REC_PFPJ': 'PF', 'PAG_REGIAO': 'NORDESTE', 'REC_REGIAO': 'CENTRO-OESTE', 'PAG_IDADE': 'entre 30 e 39 anos', 'REC_IDADE': 'entre 50 e 59 anos', 'FORMAINICIACAO': 'QRES', 'NATUREZA': 'P2P', 'FINALIDADE': 'Pix', 'VALOR': 2465940.56, 'QUANTIDADE': 70799}"
        ],
        [
         "16",
         "https://was-p.bcnet.bcb.gov.br/olinda/servico/Pix_DadosAbertos/versao/v1/odata$metadata#_EstatisticasTransacoesPix(AnoMes,PAG_PFPJ,REC_PFPJ,PAG_REGIAO,REC_REGIAO,PAG_IDADE,REC_IDADE,FORMAINICIACAO,NATUREZA,FINALIDADE,VALOR,QUANTIDADE)",
         "{'AnoMes': 202305, 'PAG_PFPJ': 'PF', 'REC_PFPJ': 'PJ', 'PAG_REGIAO': 'Nao informado', 'REC_REGIAO': 'NORTE', 'PAG_IDADE': 'entre 40 e 49 anos', 'REC_IDADE': 'Nao se aplica', 'FORMAINICIACAO': 'MANU', 'NATUREZA': 'P2B', 'FINALIDADE': 'Pix', 'VALOR': 171194.59, 'QUANTIDADE': 246}"
        ],
        [
         "17",
         "https://was-p.bcnet.bcb.gov.br/olinda/servico/Pix_DadosAbertos/versao/v1/odata$metadata#_EstatisticasTransacoesPix(AnoMes,PAG_PFPJ,REC_PFPJ,PAG_REGIAO,REC_REGIAO,PAG_IDADE,REC_IDADE,FORMAINICIACAO,NATUREZA,FINALIDADE,VALOR,QUANTIDADE)",
         "{'AnoMes': 202303, 'PAG_PFPJ': 'PF', 'REC_PFPJ': 'PF', 'PAG_REGIAO': 'Nao informado', 'REC_REGIAO': 'CENTRO-OESTE', 'PAG_IDADE': 'entre 50 e 59 anos', 'REC_IDADE': 'até 19 anos', 'FORMAINICIACAO': 'MANU', 'NATUREZA': 'P2P', 'FINALIDADE': 'Pix', 'VALOR': 1916.0, 'QUANTIDADE': 26}"
        ],
        [
         "18",
         "https://was-p.bcnet.bcb.gov.br/olinda/servico/Pix_DadosAbertos/versao/v1/odata$metadata#_EstatisticasTransacoesPix(AnoMes,PAG_PFPJ,REC_PFPJ,PAG_REGIAO,REC_REGIAO,PAG_IDADE,REC_IDADE,FORMAINICIACAO,NATUREZA,FINALIDADE,VALOR,QUANTIDADE)",
         "{'AnoMes': 202408, 'PAG_PFPJ': 'PF', 'REC_PFPJ': 'PF', 'PAG_REGIAO': 'SUL', 'REC_REGIAO': 'SUDESTE', 'PAG_IDADE': 'entre 30 e 39 anos', 'REC_IDADE': 'entre 20 e 29 anos', 'FORMAINICIACAO': 'INIC', 'NATUREZA': 'P2P', 'FINALIDADE': 'Pix', 'VALOR': 1238.0, 'QUANTIDADE': 18}"
        ],
        [
         "19",
         "https://was-p.bcnet.bcb.gov.br/olinda/servico/Pix_DadosAbertos/versao/v1/odata$metadata#_EstatisticasTransacoesPix(AnoMes,PAG_PFPJ,REC_PFPJ,PAG_REGIAO,REC_REGIAO,PAG_IDADE,REC_IDADE,FORMAINICIACAO,NATUREZA,FINALIDADE,VALOR,QUANTIDADE)",
         "{'AnoMes': 202401, 'PAG_PFPJ': 'PJ', 'REC_PFPJ': 'PF', 'PAG_REGIAO': 'Nao informado', 'REC_REGIAO': 'NORTE', 'PAG_IDADE': 'Nao se aplica', 'REC_IDADE': 'entre 40 e 49 anos', 'FORMAINICIACAO': 'Nao disponivel', 'NATUREZA': 'B2P', 'FINALIDADE': 'Nao disponivel', 'VALOR': 29.43, 'QUANTIDADE': 1}"
        ],
        [
         "20",
         "https://was-p.bcnet.bcb.gov.br/olinda/servico/Pix_DadosAbertos/versao/v1/odata$metadata#_EstatisticasTransacoesPix(AnoMes,PAG_PFPJ,REC_PFPJ,PAG_REGIAO,REC_REGIAO,PAG_IDADE,REC_IDADE,FORMAINICIACAO,NATUREZA,FINALIDADE,VALOR,QUANTIDADE)",
         "{'AnoMes': 202304, 'PAG_PFPJ': 'PF', 'REC_PFPJ': 'PJ', 'PAG_REGIAO': 'NORDESTE', 'REC_REGIAO': 'CENTRO-OESTE', 'PAG_IDADE': 'mais de 60 anos', 'REC_IDADE': 'Nao se aplica', 'FORMAINICIACAO': 'QRES', 'NATUREZA': 'P2B', 'FINALIDADE': 'Pix', 'VALOR': 3247199.61, 'QUANTIDADE': 7059}"
        ],
        [
         "21",
         "https://was-p.bcnet.bcb.gov.br/olinda/servico/Pix_DadosAbertos/versao/v1/odata$metadata#_EstatisticasTransacoesPix(AnoMes,PAG_PFPJ,REC_PFPJ,PAG_REGIAO,REC_REGIAO,PAG_IDADE,REC_IDADE,FORMAINICIACAO,NATUREZA,FINALIDADE,VALOR,QUANTIDADE)",
         "{'AnoMes': 202309, 'PAG_PFPJ': 'PF', 'REC_PFPJ': 'PF', 'PAG_REGIAO': 'SUL', 'REC_REGIAO': 'NORDESTE', 'PAG_IDADE': 'entre 40 e 49 anos', 'REC_IDADE': 'até 19 anos', 'FORMAINICIACAO': 'Nao disponivel', 'NATUREZA': 'P2P', 'FINALIDADE': 'Nao disponivel', 'VALOR': 1572.6, 'QUANTIDADE': 59}"
        ],
        [
         "22",
         "https://was-p.bcnet.bcb.gov.br/olinda/servico/Pix_DadosAbertos/versao/v1/odata$metadata#_EstatisticasTransacoesPix(AnoMes,PAG_PFPJ,REC_PFPJ,PAG_REGIAO,REC_REGIAO,PAG_IDADE,REC_IDADE,FORMAINICIACAO,NATUREZA,FINALIDADE,VALOR,QUANTIDADE)",
         "{'AnoMes': 202304, 'PAG_PFPJ': 'PF', 'REC_PFPJ': 'PF', 'PAG_REGIAO': 'NORDESTE', 'REC_REGIAO': 'SUL', 'PAG_IDADE': 'entre 50 e 59 anos', 'REC_IDADE': 'entre 30 e 39 anos', 'FORMAINICIACAO': 'Nao disponivel', 'NATUREZA': 'P2P', 'FINALIDADE': 'Nao disponivel', 'VALOR': 23669.23, 'QUANTIDADE': 60}"
        ],
        [
         "23",
         "https://was-p.bcnet.bcb.gov.br/olinda/servico/Pix_DadosAbertos/versao/v1/odata$metadata#_EstatisticasTransacoesPix(AnoMes,PAG_PFPJ,REC_PFPJ,PAG_REGIAO,REC_REGIAO,PAG_IDADE,REC_IDADE,FORMAINICIACAO,NATUREZA,FINALIDADE,VALOR,QUANTIDADE)",
         "{'AnoMes': 202308, 'PAG_PFPJ': 'PF', 'REC_PFPJ': 'PF', 'PAG_REGIAO': 'NORTE', 'REC_REGIAO': 'NORDESTE', 'PAG_IDADE': 'entre 50 e 59 anos', 'REC_IDADE': 'entre 50 e 59 anos', 'FORMAINICIACAO': 'DICT', 'NATUREZA': 'P2P', 'FINALIDADE': 'Pix', 'VALOR': 15397047.75, 'QUANTIDADE': 53127}"
        ],
        [
         "24",
         "https://was-p.bcnet.bcb.gov.br/olinda/servico/Pix_DadosAbertos/versao/v1/odata$metadata#_EstatisticasTransacoesPix(AnoMes,PAG_PFPJ,REC_PFPJ,PAG_REGIAO,REC_REGIAO,PAG_IDADE,REC_IDADE,FORMAINICIACAO,NATUREZA,FINALIDADE,VALOR,QUANTIDADE)",
         "{'AnoMes': 202412, 'PAG_PFPJ': 'PF', 'REC_PFPJ': 'PJ', 'PAG_REGIAO': 'SUDESTE', 'REC_REGIAO': 'NORDESTE', 'PAG_IDADE': 'mais de 60 anos', 'REC_IDADE': 'Nao se aplica', 'FORMAINICIACAO': 'QRDN', 'NATUREZA': 'P2B', 'FINALIDADE': 'Pix', 'VALOR': 78439138.83, 'QUANTIDADE': 1439867}"
        ],
        [
         "25",
         "https://was-p.bcnet.bcb.gov.br/olinda/servico/Pix_DadosAbertos/versao/v1/odata$metadata#_EstatisticasTransacoesPix(AnoMes,PAG_PFPJ,REC_PFPJ,PAG_REGIAO,REC_REGIAO,PAG_IDADE,REC_IDADE,FORMAINICIACAO,NATUREZA,FINALIDADE,VALOR,QUANTIDADE)",
         "{'AnoMes': 202304, 'PAG_PFPJ': 'PF', 'REC_PFPJ': 'PF', 'PAG_REGIAO': 'Nao informado', 'REC_REGIAO': 'NORDESTE', 'PAG_IDADE': 'mais de 60 anos', 'REC_IDADE': 'entre 50 e 59 anos', 'FORMAINICIACAO': 'QRDN', 'NATUREZA': 'P2P', 'FINALIDADE': 'Pix', 'VALOR': 944.07, 'QUANTIDADE': 16}"
        ],
        [
         "26",
         "https://was-p.bcnet.bcb.gov.br/olinda/servico/Pix_DadosAbertos/versao/v1/odata$metadata#_EstatisticasTransacoesPix(AnoMes,PAG_PFPJ,REC_PFPJ,PAG_REGIAO,REC_REGIAO,PAG_IDADE,REC_IDADE,FORMAINICIACAO,NATUREZA,FINALIDADE,VALOR,QUANTIDADE)",
         "{'AnoMes': 202307, 'PAG_PFPJ': 'PF', 'REC_PFPJ': 'PJ', 'PAG_REGIAO': 'SUL', 'REC_REGIAO': 'SUDESTE', 'PAG_IDADE': 'entre 20 e 29 anos', 'REC_IDADE': 'Nao se aplica', 'FORMAINICIACAO': 'QRDN', 'NATUREZA': 'P2B', 'FINALIDADE': 'Pix Troco', 'VALOR': 1821.0, 'QUANTIDADE': 2}"
        ],
        [
         "27",
         "https://was-p.bcnet.bcb.gov.br/olinda/servico/Pix_DadosAbertos/versao/v1/odata$metadata#_EstatisticasTransacoesPix(AnoMes,PAG_PFPJ,REC_PFPJ,PAG_REGIAO,REC_REGIAO,PAG_IDADE,REC_IDADE,FORMAINICIACAO,NATUREZA,FINALIDADE,VALOR,QUANTIDADE)",
         "{'AnoMes': 202406, 'PAG_PFPJ': 'PF', 'REC_PFPJ': 'PF', 'PAG_REGIAO': 'NORTE', 'REC_REGIAO': 'NORTE', 'PAG_IDADE': 'entre 50 e 59 anos', 'REC_IDADE': 'entre 40 e 49 anos', 'FORMAINICIACAO': 'QRDN', 'NATUREZA': 'P2P', 'FINALIDADE': 'Pix', 'VALOR': 10260022.44, 'QUANTIDADE': 314670}"
        ],
        [
         "28",
         "https://was-p.bcnet.bcb.gov.br/olinda/servico/Pix_DadosAbertos/versao/v1/odata$metadata#_EstatisticasTransacoesPix(AnoMes,PAG_PFPJ,REC_PFPJ,PAG_REGIAO,REC_REGIAO,PAG_IDADE,REC_IDADE,FORMAINICIACAO,NATUREZA,FINALIDADE,VALOR,QUANTIDADE)",
         "{'AnoMes': 202504, 'PAG_PFPJ': 'PF', 'REC_PFPJ': 'PF', 'PAG_REGIAO': 'Nao informado', 'REC_REGIAO': 'NORTE', 'PAG_IDADE': 'mais de 60 anos', 'REC_IDADE': 'mais de 60 anos', 'FORMAINICIACAO': 'QRDN', 'NATUREZA': 'P2P', 'FINALIDADE': 'Pix', 'VALOR': 909.0, 'QUANTIDADE': 13}"
        ],
        [
         "29",
         "https://was-p.bcnet.bcb.gov.br/olinda/servico/Pix_DadosAbertos/versao/v1/odata$metadata#_EstatisticasTransacoesPix(AnoMes,PAG_PFPJ,REC_PFPJ,PAG_REGIAO,REC_REGIAO,PAG_IDADE,REC_IDADE,FORMAINICIACAO,NATUREZA,FINALIDADE,VALOR,QUANTIDADE)",
         "{'AnoMes': 202405, 'PAG_PFPJ': 'PF', 'REC_PFPJ': 'PF', 'PAG_REGIAO': 'SUL', 'REC_REGIAO': 'CENTRO-OESTE', 'PAG_IDADE': 'até 19 anos', 'REC_IDADE': 'entre 30 e 39 anos', 'FORMAINICIACAO': 'MANU', 'NATUREZA': 'P2P', 'FINALIDADE': 'Pix', 'VALOR': 269587.45, 'QUANTIDADE': 2155}"
        ],
        [
         "30",
         "https://was-p.bcnet.bcb.gov.br/olinda/servico/Pix_DadosAbertos/versao/v1/odata$metadata#_EstatisticasTransacoesPix(AnoMes,PAG_PFPJ,REC_PFPJ,PAG_REGIAO,REC_REGIAO,PAG_IDADE,REC_IDADE,FORMAINICIACAO,NATUREZA,FINALIDADE,VALOR,QUANTIDADE)",
         "{'AnoMes': 202410, 'PAG_PFPJ': 'PF', 'REC_PFPJ': 'PF', 'PAG_REGIAO': 'NORTE', 'REC_REGIAO': 'CENTRO-OESTE', 'PAG_IDADE': 'entre 20 e 29 anos', 'REC_IDADE': 'mais de 60 anos', 'FORMAINICIACAO': 'MANU', 'NATUREZA': 'P2P', 'FINALIDADE': 'Pix', 'VALOR': 2996694.49, 'QUANTIDADE': 12695}"
        ],
        [
         "31",
         "https://was-p.bcnet.bcb.gov.br/olinda/servico/Pix_DadosAbertos/versao/v1/odata$metadata#_EstatisticasTransacoesPix(AnoMes,PAG_PFPJ,REC_PFPJ,PAG_REGIAO,REC_REGIAO,PAG_IDADE,REC_IDADE,FORMAINICIACAO,NATUREZA,FINALIDADE,VALOR,QUANTIDADE)",
         "{'AnoMes': 202306, 'PAG_PFPJ': 'PF', 'REC_PFPJ': 'PF', 'PAG_REGIAO': 'SUL', 'REC_REGIAO': 'NORDESTE', 'PAG_IDADE': 'entre 20 e 29 anos', 'REC_IDADE': 'entre 40 e 49 anos', 'FORMAINICIACAO': 'MANU', 'NATUREZA': 'P2P', 'FINALIDADE': 'Pix', 'VALOR': 2105778.57, 'QUANTIDADE': 11020}"
        ],
        [
         "32",
         "https://was-p.bcnet.bcb.gov.br/olinda/servico/Pix_DadosAbertos/versao/v1/odata$metadata#_EstatisticasTransacoesPix(AnoMes,PAG_PFPJ,REC_PFPJ,PAG_REGIAO,REC_REGIAO,PAG_IDADE,REC_IDADE,FORMAINICIACAO,NATUREZA,FINALIDADE,VALOR,QUANTIDADE)",
         "{'AnoMes': 202307, 'PAG_PFPJ': 'PF', 'REC_PFPJ': 'PF', 'PAG_REGIAO': 'CENTRO-OESTE', 'REC_REGIAO': 'SUL', 'PAG_IDADE': 'até 19 anos', 'REC_IDADE': 'até 19 anos', 'FORMAINICIACAO': 'QRDN', 'NATUREZA': 'P2P', 'FINALIDADE': 'Pix', 'VALOR': 2028.03, 'QUANTIDADE': 70}"
        ],
        [
         "33",
         "https://was-p.bcnet.bcb.gov.br/olinda/servico/Pix_DadosAbertos/versao/v1/odata$metadata#_EstatisticasTransacoesPix(AnoMes,PAG_PFPJ,REC_PFPJ,PAG_REGIAO,REC_REGIAO,PAG_IDADE,REC_IDADE,FORMAINICIACAO,NATUREZA,FINALIDADE,VALOR,QUANTIDADE)",
         "{'AnoMes': 202411, 'PAG_PFPJ': 'PF', 'REC_PFPJ': 'PF', 'PAG_REGIAO': 'SUL', 'REC_REGIAO': 'NORTE', 'PAG_IDADE': 'até 19 anos', 'REC_IDADE': 'entre 50 e 59 anos', 'FORMAINICIACAO': 'MANU', 'NATUREZA': 'P2P', 'FINALIDADE': 'Pix', 'VALOR': 135164.24, 'QUANTIDADE': 1273}"
        ],
        [
         "34",
         "https://was-p.bcnet.bcb.gov.br/olinda/servico/Pix_DadosAbertos/versao/v1/odata$metadata#_EstatisticasTransacoesPix(AnoMes,PAG_PFPJ,REC_PFPJ,PAG_REGIAO,REC_REGIAO,PAG_IDADE,REC_IDADE,FORMAINICIACAO,NATUREZA,FINALIDADE,VALOR,QUANTIDADE)",
         "{'AnoMes': 202503, 'PAG_PFPJ': 'PF', 'REC_PFPJ': 'PF', 'PAG_REGIAO': 'Nao informado', 'REC_REGIAO': 'NORDESTE', 'PAG_IDADE': 'entre 30 e 39 anos', 'REC_IDADE': 'mais de 60 anos', 'FORMAINICIACAO': 'DICT', 'NATUREZA': 'P2P', 'FINALIDADE': 'Pix', 'VALOR': 2501682.43, 'QUANTIDADE': 2902}"
        ],
        [
         "35",
         "https://was-p.bcnet.bcb.gov.br/olinda/servico/Pix_DadosAbertos/versao/v1/odata$metadata#_EstatisticasTransacoesPix(AnoMes,PAG_PFPJ,REC_PFPJ,PAG_REGIAO,REC_REGIAO,PAG_IDADE,REC_IDADE,FORMAINICIACAO,NATUREZA,FINALIDADE,VALOR,QUANTIDADE)",
         "{'AnoMes': 202306, 'PAG_PFPJ': 'PF', 'REC_PFPJ': 'PF', 'PAG_REGIAO': 'SUL', 'REC_REGIAO': 'Nao informado', 'PAG_IDADE': 'entre 20 e 29 anos', 'REC_IDADE': 'entre 30 e 39 anos', 'FORMAINICIACAO': 'QRDN', 'NATUREZA': 'P2P', 'FINALIDADE': 'Pix', 'VALOR': 2480.6, 'QUANTIDADE': 85}"
        ],
        [
         "36",
         "https://was-p.bcnet.bcb.gov.br/olinda/servico/Pix_DadosAbertos/versao/v1/odata$metadata#_EstatisticasTransacoesPix(AnoMes,PAG_PFPJ,REC_PFPJ,PAG_REGIAO,REC_REGIAO,PAG_IDADE,REC_IDADE,FORMAINICIACAO,NATUREZA,FINALIDADE,VALOR,QUANTIDADE)",
         "{'AnoMes': 202407, 'PAG_PFPJ': 'PF', 'REC_PFPJ': 'PF', 'PAG_REGIAO': 'Nao informado', 'REC_REGIAO': 'NORTE', 'PAG_IDADE': 'até 19 anos', 'REC_IDADE': 'entre 50 e 59 anos', 'FORMAINICIACAO': 'MANU', 'NATUREZA': 'P2P', 'FINALIDADE': 'Pix', 'VALOR': 2691.42, 'QUANTIDADE': 48}"
        ],
        [
         "37",
         "https://was-p.bcnet.bcb.gov.br/olinda/servico/Pix_DadosAbertos/versao/v1/odata$metadata#_EstatisticasTransacoesPix(AnoMes,PAG_PFPJ,REC_PFPJ,PAG_REGIAO,REC_REGIAO,PAG_IDADE,REC_IDADE,FORMAINICIACAO,NATUREZA,FINALIDADE,VALOR,QUANTIDADE)",
         "{'AnoMes': 202306, 'PAG_PFPJ': 'PF', 'REC_PFPJ': 'PF', 'PAG_REGIAO': 'Nao informado', 'REC_REGIAO': 'Nao informado', 'PAG_IDADE': 'entre 40 e 49 anos', 'REC_IDADE': 'até 19 anos', 'FORMAINICIACAO': 'DICT', 'NATUREZA': 'P2P', 'FINALIDADE': 'Pix', 'VALOR': 79894.83, 'QUANTIDADE': 689}"
        ],
        [
         "38",
         "https://was-p.bcnet.bcb.gov.br/olinda/servico/Pix_DadosAbertos/versao/v1/odata$metadata#_EstatisticasTransacoesPix(AnoMes,PAG_PFPJ,REC_PFPJ,PAG_REGIAO,REC_REGIAO,PAG_IDADE,REC_IDADE,FORMAINICIACAO,NATUREZA,FINALIDADE,VALOR,QUANTIDADE)",
         "{'AnoMes': 202505, 'PAG_PFPJ': 'PF', 'REC_PFPJ': 'PF', 'PAG_REGIAO': 'CENTRO-OESTE', 'REC_REGIAO': 'NORDESTE', 'PAG_IDADE': 'entre 20 e 29 anos', 'REC_IDADE': 'mais de 60 anos', 'FORMAINICIACAO': 'DICT', 'NATUREZA': 'P2P', 'FINALIDADE': 'Pix', 'VALOR': 8081959.51, 'QUANTIDADE': 36892}"
        ],
        [
         "39",
         "https://was-p.bcnet.bcb.gov.br/olinda/servico/Pix_DadosAbertos/versao/v1/odata$metadata#_EstatisticasTransacoesPix(AnoMes,PAG_PFPJ,REC_PFPJ,PAG_REGIAO,REC_REGIAO,PAG_IDADE,REC_IDADE,FORMAINICIACAO,NATUREZA,FINALIDADE,VALOR,QUANTIDADE)",
         "{'AnoMes': 202402, 'PAG_PFPJ': 'PJ', 'REC_PFPJ': 'PF', 'PAG_REGIAO': 'SUDESTE', 'REC_REGIAO': 'NORTE', 'PAG_IDADE': 'Nao se aplica', 'REC_IDADE': 'entre 20 e 29 anos', 'FORMAINICIACAO': 'DICT', 'NATUREZA': 'G2P', 'FINALIDADE': 'Pix', 'VALOR': 8034.4, 'QUANTIDADE': 9}"
        ],
        [
         "40",
         "https://was-p.bcnet.bcb.gov.br/olinda/servico/Pix_DadosAbertos/versao/v1/odata$metadata#_EstatisticasTransacoesPix(AnoMes,PAG_PFPJ,REC_PFPJ,PAG_REGIAO,REC_REGIAO,PAG_IDADE,REC_IDADE,FORMAINICIACAO,NATUREZA,FINALIDADE,VALOR,QUANTIDADE)",
         "{'AnoMes': 202501, 'PAG_PFPJ': 'PF', 'REC_PFPJ': 'PF', 'PAG_REGIAO': 'SUDESTE', 'REC_REGIAO': 'SUL', 'PAG_IDADE': 'entre 40 e 49 anos', 'REC_IDADE': 'até 19 anos', 'FORMAINICIACAO': 'Nao disponivel', 'NATUREZA': 'P2P', 'FINALIDADE': 'Nao disponivel', 'VALOR': 35062.23, 'QUANTIDADE': 968}"
        ],
        [
         "41",
         "https://was-p.bcnet.bcb.gov.br/olinda/servico/Pix_DadosAbertos/versao/v1/odata$metadata#_EstatisticasTransacoesPix(AnoMes,PAG_PFPJ,REC_PFPJ,PAG_REGIAO,REC_REGIAO,PAG_IDADE,REC_IDADE,FORMAINICIACAO,NATUREZA,FINALIDADE,VALOR,QUANTIDADE)",
         "{'AnoMes': 202408, 'PAG_PFPJ': 'PJ', 'REC_PFPJ': 'PF', 'PAG_REGIAO': 'NORDESTE', 'REC_REGIAO': 'SUL', 'PAG_IDADE': 'Nao se aplica', 'REC_IDADE': 'entre 50 e 59 anos', 'FORMAINICIACAO': 'Nao disponivel', 'NATUREZA': 'B2P', 'FINALIDADE': 'Nao disponivel', 'VALOR': 158335.14, 'QUANTIDADE': 1222}"
        ],
        [
         "42",
         "https://was-p.bcnet.bcb.gov.br/olinda/servico/Pix_DadosAbertos/versao/v1/odata$metadata#_EstatisticasTransacoesPix(AnoMes,PAG_PFPJ,REC_PFPJ,PAG_REGIAO,REC_REGIAO,PAG_IDADE,REC_IDADE,FORMAINICIACAO,NATUREZA,FINALIDADE,VALOR,QUANTIDADE)",
         "{'AnoMes': 202303, 'PAG_PFPJ': 'PF', 'REC_PFPJ': 'PF', 'PAG_REGIAO': 'Nao informado', 'REC_REGIAO': 'NORDESTE', 'PAG_IDADE': 'Nao informado', 'REC_IDADE': 'mais de 60 anos', 'FORMAINICIACAO': 'DICT', 'NATUREZA': 'P2P', 'FINALIDADE': 'Pix', 'VALOR': 357.67, 'QUANTIDADE': 25}"
        ],
        [
         "43",
         "https://was-p.bcnet.bcb.gov.br/olinda/servico/Pix_DadosAbertos/versao/v1/odata$metadata#_EstatisticasTransacoesPix(AnoMes,PAG_PFPJ,REC_PFPJ,PAG_REGIAO,REC_REGIAO,PAG_IDADE,REC_IDADE,FORMAINICIACAO,NATUREZA,FINALIDADE,VALOR,QUANTIDADE)",
         "{'AnoMes': 202408, 'PAG_PFPJ': 'PJ', 'REC_PFPJ': 'PF', 'PAG_REGIAO': 'SUDESTE', 'REC_REGIAO': 'Nao informado', 'PAG_IDADE': 'Nao se aplica', 'REC_IDADE': 'mais de 60 anos', 'FORMAINICIACAO': 'Nao disponivel', 'NATUREZA': 'B2P', 'FINALIDADE': 'Nao disponivel', 'VALOR': 115448.35, 'QUANTIDADE': 388}"
        ],
        [
         "44",
         "https://was-p.bcnet.bcb.gov.br/olinda/servico/Pix_DadosAbertos/versao/v1/odata$metadata#_EstatisticasTransacoesPix(AnoMes,PAG_PFPJ,REC_PFPJ,PAG_REGIAO,REC_REGIAO,PAG_IDADE,REC_IDADE,FORMAINICIACAO,NATUREZA,FINALIDADE,VALOR,QUANTIDADE)",
         "{'AnoMes': 202412, 'PAG_PFPJ': 'PF', 'REC_PFPJ': 'PJ', 'PAG_REGIAO': 'Nao informado', 'REC_REGIAO': 'SUDESTE', 'PAG_IDADE': 'entre 20 e 29 anos', 'REC_IDADE': 'Nao se aplica', 'FORMAINICIACAO': 'QRES', 'NATUREZA': 'P2B', 'FINALIDADE': 'Pix Saque', 'VALOR': 70.0, 'QUANTIDADE': 1}"
        ],
        [
         "45",
         "https://was-p.bcnet.bcb.gov.br/olinda/servico/Pix_DadosAbertos/versao/v1/odata$metadata#_EstatisticasTransacoesPix(AnoMes,PAG_PFPJ,REC_PFPJ,PAG_REGIAO,REC_REGIAO,PAG_IDADE,REC_IDADE,FORMAINICIACAO,NATUREZA,FINALIDADE,VALOR,QUANTIDADE)",
         "{'AnoMes': 202302, 'PAG_PFPJ': 'PF', 'REC_PFPJ': 'PF', 'PAG_REGIAO': 'NORDESTE', 'REC_REGIAO': 'SUL', 'PAG_IDADE': 'entre 30 e 39 anos', 'REC_IDADE': 'até 19 anos', 'FORMAINICIACAO': 'QRES', 'NATUREZA': 'P2P', 'FINALIDADE': 'Pix', 'VALOR': 27132.29, 'QUANTIDADE': 1271}"
        ],
        [
         "46",
         "https://was-p.bcnet.bcb.gov.br/olinda/servico/Pix_DadosAbertos/versao/v1/odata$metadata#_EstatisticasTransacoesPix(AnoMes,PAG_PFPJ,REC_PFPJ,PAG_REGIAO,REC_REGIAO,PAG_IDADE,REC_IDADE,FORMAINICIACAO,NATUREZA,FINALIDADE,VALOR,QUANTIDADE)",
         "{'AnoMes': 202504, 'PAG_PFPJ': 'PF', 'REC_PFPJ': 'PF', 'PAG_REGIAO': 'Nao informado', 'REC_REGIAO': 'CENTRO-OESTE', 'PAG_IDADE': 'Nao informado', 'REC_IDADE': 'entre 40 e 49 anos', 'FORMAINICIACAO': 'DICT', 'NATUREZA': 'P2P', 'FINALIDADE': 'Pix', 'VALOR': 582921.09, 'QUANTIDADE': 376}"
        ],
        [
         "47",
         "https://was-p.bcnet.bcb.gov.br/olinda/servico/Pix_DadosAbertos/versao/v1/odata$metadata#_EstatisticasTransacoesPix(AnoMes,PAG_PFPJ,REC_PFPJ,PAG_REGIAO,REC_REGIAO,PAG_IDADE,REC_IDADE,FORMAINICIACAO,NATUREZA,FINALIDADE,VALOR,QUANTIDADE)",
         "{'AnoMes': 202306, 'PAG_PFPJ': 'PJ', 'REC_PFPJ': 'PF', 'PAG_REGIAO': 'NORTE', 'REC_REGIAO': 'NORTE', 'PAG_IDADE': 'Nao se aplica', 'REC_IDADE': 'entre 20 e 29 anos', 'FORMAINICIACAO': 'DICT', 'NATUREZA': 'G2P', 'FINALIDADE': 'Pix', 'VALOR': 2127395.86, 'QUANTIDADE': 1378}"
        ],
        [
         "48",
         "https://was-p.bcnet.bcb.gov.br/olinda/servico/Pix_DadosAbertos/versao/v1/odata$metadata#_EstatisticasTransacoesPix(AnoMes,PAG_PFPJ,REC_PFPJ,PAG_REGIAO,REC_REGIAO,PAG_IDADE,REC_IDADE,FORMAINICIACAO,NATUREZA,FINALIDADE,VALOR,QUANTIDADE)",
         "{'AnoMes': 202505, 'PAG_PFPJ': 'PF', 'REC_PFPJ': 'PF', 'PAG_REGIAO': 'SUL', 'REC_REGIAO': 'SUDESTE', 'PAG_IDADE': 'até 19 anos', 'REC_IDADE': 'mais de 60 anos', 'FORMAINICIACAO': 'DICT', 'NATUREZA': 'P2P', 'FINALIDADE': 'Pix', 'VALOR': 1750610.82, 'QUANTIDADE': 13910}"
        ],
        [
         "49",
         "https://was-p.bcnet.bcb.gov.br/olinda/servico/Pix_DadosAbertos/versao/v1/odata$metadata#_EstatisticasTransacoesPix(AnoMes,PAG_PFPJ,REC_PFPJ,PAG_REGIAO,REC_REGIAO,PAG_IDADE,REC_IDADE,FORMAINICIACAO,NATUREZA,FINALIDADE,VALOR,QUANTIDADE)",
         "{'AnoMes': 202302, 'PAG_PFPJ': 'PF', 'REC_PFPJ': 'PF', 'PAG_REGIAO': 'NORDESTE', 'REC_REGIAO': 'CENTRO-OESTE', 'PAG_IDADE': 'até 19 anos', 'REC_IDADE': 'entre 50 e 59 anos', 'FORMAINICIACAO': 'QRES', 'NATUREZA': 'P2P', 'FINALIDADE': 'Pix', 'VALOR': 33758.79, 'QUANTIDADE': 2146}"
        ]
       ],
       "shape": {
        "columns": 2,
        "rows": 50000
       }
      },
      "text/html": [
       "<div>\n",
       "<style scoped>\n",
       "    .dataframe tbody tr th:only-of-type {\n",
       "        vertical-align: middle;\n",
       "    }\n",
       "\n",
       "    .dataframe tbody tr th {\n",
       "        vertical-align: top;\n",
       "    }\n",
       "\n",
       "    .dataframe thead th {\n",
       "        text-align: right;\n",
       "    }\n",
       "</style>\n",
       "<table border=\"1\" class=\"dataframe\">\n",
       "  <thead>\n",
       "    <tr style=\"text-align: right;\">\n",
       "      <th></th>\n",
       "      <th>@odata.context</th>\n",
       "      <th>value</th>\n",
       "    </tr>\n",
       "  </thead>\n",
       "  <tbody>\n",
       "    <tr>\n",
       "      <th>0</th>\n",
       "      <td>https://was-p.bcnet.bcb.gov.br/olinda/servico/...</td>\n",
       "      <td>{'AnoMes': 202405, 'PAG_PFPJ': 'PF', 'REC_PFPJ...</td>\n",
       "    </tr>\n",
       "    <tr>\n",
       "      <th>1</th>\n",
       "      <td>https://was-p.bcnet.bcb.gov.br/olinda/servico/...</td>\n",
       "      <td>{'AnoMes': 202303, 'PAG_PFPJ': 'PF', 'REC_PFPJ...</td>\n",
       "    </tr>\n",
       "    <tr>\n",
       "      <th>2</th>\n",
       "      <td>https://was-p.bcnet.bcb.gov.br/olinda/servico/...</td>\n",
       "      <td>{'AnoMes': 202301, 'PAG_PFPJ': 'PJ', 'REC_PFPJ...</td>\n",
       "    </tr>\n",
       "    <tr>\n",
       "      <th>3</th>\n",
       "      <td>https://was-p.bcnet.bcb.gov.br/olinda/servico/...</td>\n",
       "      <td>{'AnoMes': 202401, 'PAG_PFPJ': 'PJ', 'REC_PFPJ...</td>\n",
       "    </tr>\n",
       "    <tr>\n",
       "      <th>4</th>\n",
       "      <td>https://was-p.bcnet.bcb.gov.br/olinda/servico/...</td>\n",
       "      <td>{'AnoMes': 202408, 'PAG_PFPJ': 'PF', 'REC_PFPJ...</td>\n",
       "    </tr>\n",
       "    <tr>\n",
       "      <th>...</th>\n",
       "      <td>...</td>\n",
       "      <td>...</td>\n",
       "    </tr>\n",
       "    <tr>\n",
       "      <th>49995</th>\n",
       "      <td>https://was-p.bcnet.bcb.gov.br/olinda/servico/...</td>\n",
       "      <td>{'AnoMes': 202406, 'PAG_PFPJ': 'PF', 'REC_PFPJ...</td>\n",
       "    </tr>\n",
       "    <tr>\n",
       "      <th>49996</th>\n",
       "      <td>https://was-p.bcnet.bcb.gov.br/olinda/servico/...</td>\n",
       "      <td>{'AnoMes': 202402, 'PAG_PFPJ': 'PF', 'REC_PFPJ...</td>\n",
       "    </tr>\n",
       "    <tr>\n",
       "      <th>49997</th>\n",
       "      <td>https://was-p.bcnet.bcb.gov.br/olinda/servico/...</td>\n",
       "      <td>{'AnoMes': 202301, 'PAG_PFPJ': 'PF', 'REC_PFPJ...</td>\n",
       "    </tr>\n",
       "    <tr>\n",
       "      <th>49998</th>\n",
       "      <td>https://was-p.bcnet.bcb.gov.br/olinda/servico/...</td>\n",
       "      <td>{'AnoMes': 202407, 'PAG_PFPJ': 'PF', 'REC_PFPJ...</td>\n",
       "    </tr>\n",
       "    <tr>\n",
       "      <th>49999</th>\n",
       "      <td>https://was-p.bcnet.bcb.gov.br/olinda/servico/...</td>\n",
       "      <td>{'AnoMes': 202312, 'PAG_PFPJ': 'PJ', 'REC_PFPJ...</td>\n",
       "    </tr>\n",
       "  </tbody>\n",
       "</table>\n",
       "<p>50000 rows × 2 columns</p>\n",
       "</div>"
      ],
      "text/plain": [
       "                                          @odata.context  \\\n",
       "0      https://was-p.bcnet.bcb.gov.br/olinda/servico/...   \n",
       "1      https://was-p.bcnet.bcb.gov.br/olinda/servico/...   \n",
       "2      https://was-p.bcnet.bcb.gov.br/olinda/servico/...   \n",
       "3      https://was-p.bcnet.bcb.gov.br/olinda/servico/...   \n",
       "4      https://was-p.bcnet.bcb.gov.br/olinda/servico/...   \n",
       "...                                                  ...   \n",
       "49995  https://was-p.bcnet.bcb.gov.br/olinda/servico/...   \n",
       "49996  https://was-p.bcnet.bcb.gov.br/olinda/servico/...   \n",
       "49997  https://was-p.bcnet.bcb.gov.br/olinda/servico/...   \n",
       "49998  https://was-p.bcnet.bcb.gov.br/olinda/servico/...   \n",
       "49999  https://was-p.bcnet.bcb.gov.br/olinda/servico/...   \n",
       "\n",
       "                                                   value  \n",
       "0      {'AnoMes': 202405, 'PAG_PFPJ': 'PF', 'REC_PFPJ...  \n",
       "1      {'AnoMes': 202303, 'PAG_PFPJ': 'PF', 'REC_PFPJ...  \n",
       "2      {'AnoMes': 202301, 'PAG_PFPJ': 'PJ', 'REC_PFPJ...  \n",
       "3      {'AnoMes': 202401, 'PAG_PFPJ': 'PJ', 'REC_PFPJ...  \n",
       "4      {'AnoMes': 202408, 'PAG_PFPJ': 'PF', 'REC_PFPJ...  \n",
       "...                                                  ...  \n",
       "49995  {'AnoMes': 202406, 'PAG_PFPJ': 'PF', 'REC_PFPJ...  \n",
       "49996  {'AnoMes': 202402, 'PAG_PFPJ': 'PF', 'REC_PFPJ...  \n",
       "49997  {'AnoMes': 202301, 'PAG_PFPJ': 'PF', 'REC_PFPJ...  \n",
       "49998  {'AnoMes': 202407, 'PAG_PFPJ': 'PF', 'REC_PFPJ...  \n",
       "49999  {'AnoMes': 202312, 'PAG_PFPJ': 'PJ', 'REC_PFPJ...  \n",
       "\n",
       "[50000 rows x 2 columns]"
      ]
     },
     "execution_count": 9,
     "metadata": {},
     "output_type": "execute_result"
    }
   ],
   "source": [
    "jsondata"
   ]
  },
  {
   "cell_type": "code",
   "execution_count": 10,
   "id": "247dd98b",
   "metadata": {},
   "outputs": [],
   "source": [
    "data = jsondata['value']"
   ]
  },
  {
   "cell_type": "code",
   "execution_count": 11,
   "id": "c1d2fae4",
   "metadata": {},
   "outputs": [],
   "source": [
    "dados_df = pd.json_normalize(data)"
   ]
  },
  {
   "cell_type": "code",
   "execution_count": 12,
   "id": "6cc194fd",
   "metadata": {},
   "outputs": [
    {
     "data": {
      "application/vnd.microsoft.datawrangler.viewer.v0+json": {
       "columns": [
        {
         "name": "index",
         "rawType": "int64",
         "type": "integer"
        },
        {
         "name": "AnoMes",
         "rawType": "int64",
         "type": "integer"
        },
        {
         "name": "PAG_PFPJ",
         "rawType": "object",
         "type": "string"
        },
        {
         "name": "REC_PFPJ",
         "rawType": "object",
         "type": "string"
        },
        {
         "name": "PAG_REGIAO",
         "rawType": "object",
         "type": "string"
        },
        {
         "name": "REC_REGIAO",
         "rawType": "object",
         "type": "string"
        },
        {
         "name": "PAG_IDADE",
         "rawType": "object",
         "type": "string"
        },
        {
         "name": "REC_IDADE",
         "rawType": "object",
         "type": "string"
        },
        {
         "name": "FORMAINICIACAO",
         "rawType": "object",
         "type": "string"
        },
        {
         "name": "NATUREZA",
         "rawType": "object",
         "type": "string"
        },
        {
         "name": "FINALIDADE",
         "rawType": "object",
         "type": "string"
        },
        {
         "name": "VALOR",
         "rawType": "float64",
         "type": "float"
        },
        {
         "name": "QUANTIDADE",
         "rawType": "int64",
         "type": "integer"
        }
       ],
       "ref": "efa47e0d-4936-4812-8bef-4894c9f5da96",
       "rows": [
        [
         "0",
         "202405",
         "PF",
         "PJ",
         "Nao informado",
         "SUDESTE",
         "entre 30 e 39 anos",
         "Nao se aplica",
         "DICT",
         "P2G",
         "Pix",
         "3384.22",
         "8"
        ],
        [
         "1",
         "202303",
         "PF",
         "PJ",
         "NORTE",
         "NORTE",
         "mais de 60 anos",
         "Nao se aplica",
         "QRDN",
         "P2B",
         "Pix Troco",
         "7525.59",
         "16"
        ],
        [
         "2",
         "202301",
         "PJ",
         "PF",
         "SUDESTE",
         "Nao informado",
         "Nao se aplica",
         "entre 30 e 39 anos",
         "Nao disponivel",
         "B2P",
         "Nao disponivel",
         "255424.33",
         "1194"
        ],
        [
         "3",
         "202401",
         "PJ",
         "PJ",
         "SUL",
         "NORDESTE",
         "Nao se aplica",
         "Nao se aplica",
         "MANU",
         "B2G",
         "Pix",
         "668315.98",
         "77"
        ],
        [
         "4",
         "202408",
         "PF",
         "PF",
         "NORDESTE",
         "SUL",
         "entre 50 e 59 anos",
         "entre 20 e 29 anos",
         "MANU",
         "P2P",
         "Pix",
         "1226112.51",
         "8636"
        ]
       ],
       "shape": {
        "columns": 12,
        "rows": 5
       }
      },
      "text/html": [
       "<div>\n",
       "<style scoped>\n",
       "    .dataframe tbody tr th:only-of-type {\n",
       "        vertical-align: middle;\n",
       "    }\n",
       "\n",
       "    .dataframe tbody tr th {\n",
       "        vertical-align: top;\n",
       "    }\n",
       "\n",
       "    .dataframe thead th {\n",
       "        text-align: right;\n",
       "    }\n",
       "</style>\n",
       "<table border=\"1\" class=\"dataframe\">\n",
       "  <thead>\n",
       "    <tr style=\"text-align: right;\">\n",
       "      <th></th>\n",
       "      <th>AnoMes</th>\n",
       "      <th>PAG_PFPJ</th>\n",
       "      <th>REC_PFPJ</th>\n",
       "      <th>PAG_REGIAO</th>\n",
       "      <th>REC_REGIAO</th>\n",
       "      <th>PAG_IDADE</th>\n",
       "      <th>REC_IDADE</th>\n",
       "      <th>FORMAINICIACAO</th>\n",
       "      <th>NATUREZA</th>\n",
       "      <th>FINALIDADE</th>\n",
       "      <th>VALOR</th>\n",
       "      <th>QUANTIDADE</th>\n",
       "    </tr>\n",
       "  </thead>\n",
       "  <tbody>\n",
       "    <tr>\n",
       "      <th>0</th>\n",
       "      <td>202405</td>\n",
       "      <td>PF</td>\n",
       "      <td>PJ</td>\n",
       "      <td>Nao informado</td>\n",
       "      <td>SUDESTE</td>\n",
       "      <td>entre 30 e 39 anos</td>\n",
       "      <td>Nao se aplica</td>\n",
       "      <td>DICT</td>\n",
       "      <td>P2G</td>\n",
       "      <td>Pix</td>\n",
       "      <td>3384.22</td>\n",
       "      <td>8</td>\n",
       "    </tr>\n",
       "    <tr>\n",
       "      <th>1</th>\n",
       "      <td>202303</td>\n",
       "      <td>PF</td>\n",
       "      <td>PJ</td>\n",
       "      <td>NORTE</td>\n",
       "      <td>NORTE</td>\n",
       "      <td>mais de 60 anos</td>\n",
       "      <td>Nao se aplica</td>\n",
       "      <td>QRDN</td>\n",
       "      <td>P2B</td>\n",
       "      <td>Pix Troco</td>\n",
       "      <td>7525.59</td>\n",
       "      <td>16</td>\n",
       "    </tr>\n",
       "    <tr>\n",
       "      <th>2</th>\n",
       "      <td>202301</td>\n",
       "      <td>PJ</td>\n",
       "      <td>PF</td>\n",
       "      <td>SUDESTE</td>\n",
       "      <td>Nao informado</td>\n",
       "      <td>Nao se aplica</td>\n",
       "      <td>entre 30 e 39 anos</td>\n",
       "      <td>Nao disponivel</td>\n",
       "      <td>B2P</td>\n",
       "      <td>Nao disponivel</td>\n",
       "      <td>255424.33</td>\n",
       "      <td>1194</td>\n",
       "    </tr>\n",
       "    <tr>\n",
       "      <th>3</th>\n",
       "      <td>202401</td>\n",
       "      <td>PJ</td>\n",
       "      <td>PJ</td>\n",
       "      <td>SUL</td>\n",
       "      <td>NORDESTE</td>\n",
       "      <td>Nao se aplica</td>\n",
       "      <td>Nao se aplica</td>\n",
       "      <td>MANU</td>\n",
       "      <td>B2G</td>\n",
       "      <td>Pix</td>\n",
       "      <td>668315.98</td>\n",
       "      <td>77</td>\n",
       "    </tr>\n",
       "    <tr>\n",
       "      <th>4</th>\n",
       "      <td>202408</td>\n",
       "      <td>PF</td>\n",
       "      <td>PF</td>\n",
       "      <td>NORDESTE</td>\n",
       "      <td>SUL</td>\n",
       "      <td>entre 50 e 59 anos</td>\n",
       "      <td>entre 20 e 29 anos</td>\n",
       "      <td>MANU</td>\n",
       "      <td>P2P</td>\n",
       "      <td>Pix</td>\n",
       "      <td>1226112.51</td>\n",
       "      <td>8636</td>\n",
       "    </tr>\n",
       "  </tbody>\n",
       "</table>\n",
       "</div>"
      ],
      "text/plain": [
       "   AnoMes PAG_PFPJ REC_PFPJ     PAG_REGIAO     REC_REGIAO           PAG_IDADE  \\\n",
       "0  202405       PF       PJ  Nao informado        SUDESTE  entre 30 e 39 anos   \n",
       "1  202303       PF       PJ          NORTE          NORTE     mais de 60 anos   \n",
       "2  202301       PJ       PF        SUDESTE  Nao informado       Nao se aplica   \n",
       "3  202401       PJ       PJ            SUL       NORDESTE       Nao se aplica   \n",
       "4  202408       PF       PF       NORDESTE            SUL  entre 50 e 59 anos   \n",
       "\n",
       "            REC_IDADE  FORMAINICIACAO NATUREZA      FINALIDADE       VALOR  \\\n",
       "0       Nao se aplica            DICT      P2G             Pix     3384.22   \n",
       "1       Nao se aplica            QRDN      P2B       Pix Troco     7525.59   \n",
       "2  entre 30 e 39 anos  Nao disponivel      B2P  Nao disponivel   255424.33   \n",
       "3       Nao se aplica            MANU      B2G             Pix   668315.98   \n",
       "4  entre 20 e 29 anos            MANU      P2P             Pix  1226112.51   \n",
       "\n",
       "   QUANTIDADE  \n",
       "0           8  \n",
       "1          16  \n",
       "2        1194  \n",
       "3          77  \n",
       "4        8636  "
      ]
     },
     "execution_count": 12,
     "metadata": {},
     "output_type": "execute_result"
    }
   ],
   "source": [
    "dados_df.head()"
   ]
  }
 ],
 "metadata": {
  "kernelspec": {
   "display_name": ".venv (3.11.4)",
   "language": "python",
   "name": "python3"
  },
  "language_info": {
   "codemirror_mode": {
    "name": "ipython",
    "version": 3
   },
   "file_extension": ".py",
   "mimetype": "text/x-python",
   "name": "python",
   "nbconvert_exporter": "python",
   "pygments_lexer": "ipython3",
   "version": "3.11.4"
  }
 },
 "nbformat": 4,
 "nbformat_minor": 5
}
